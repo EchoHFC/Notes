{
 "cells": [
  {
   "cell_type": "markdown",
   "id": "7cc5e383-4c74-4ac3-b6fa-473108088448",
   "metadata": {},
   "source": [
    "## 赋值、等式和算数"
   ]
  },
  {
   "cell_type": "code",
   "execution_count": 2,
   "id": "439c0ded-4bf7-4e7a-90ea-862a17d91f71",
   "metadata": {},
   "outputs": [
    {
     "data": {
      "text/plain": [
       "5"
      ]
     },
     "execution_count": 2,
     "metadata": {},
     "output_type": "execute_result"
    }
   ],
   "source": [
    "a = 5\n",
    "a"
   ]
  },
  {
   "cell_type": "code",
   "execution_count": 3,
   "id": "e8e2caa0-42c4-4e4e-b446-0e717adcbed3",
   "metadata": {},
   "outputs": [
    {
     "data": {
      "text/plain": [
       "True"
      ]
     },
     "execution_count": 3,
     "metadata": {},
     "output_type": "execute_result"
    }
   ],
   "source": [
    "2 == 2"
   ]
  },
  {
   "cell_type": "code",
   "execution_count": 4,
   "id": "89e0514e-1bd8-4ee7-ae10-0b780af2ab47",
   "metadata": {},
   "outputs": [
    {
     "data": {
      "text/plain": [
       "True"
      ]
     },
     "execution_count": 4,
     "metadata": {},
     "output_type": "execute_result"
    }
   ],
   "source": [
    "2 < 3"
   ]
  },
  {
   "cell_type": "code",
   "execution_count": 5,
   "id": "74807530-50aa-4f69-9f49-919f335e3f0f",
   "metadata": {},
   "outputs": [
    {
     "data": {
      "text/plain": [
       "True"
      ]
     },
     "execution_count": 5,
     "metadata": {},
     "output_type": "execute_result"
    }
   ],
   "source": [
    "a == 5"
   ]
  },
  {
   "cell_type": "markdown",
   "id": "7d9720a5-4178-4bb5-91a7-86d07aa633c8",
   "metadata": {},
   "source": [
    "### 数学运算"
   ]
  },
  {
   "cell_type": "code",
   "execution_count": 6,
   "id": "b4165c3a-49be-4f70-8275-5c0ca1d5fa44",
   "metadata": {},
   "outputs": [
    {
     "data": {
      "text/plain": [
       "8"
      ]
     },
     "execution_count": 6,
     "metadata": {},
     "output_type": "execute_result"
    }
   ],
   "source": [
    "2 ** 3"
   ]
  },
  {
   "cell_type": "code",
   "execution_count": 7,
   "id": "a1128126-0bf9-4d79-b7cd-9b34c7932b6a",
   "metadata": {},
   "outputs": [
    {
     "data": {
      "text/plain": [
       "8"
      ]
     },
     "execution_count": 7,
     "metadata": {},
     "output_type": "execute_result"
    }
   ],
   "source": [
    "2^3"
   ]
  },
  {
   "cell_type": "code",
   "execution_count": 8,
   "id": "b27fd446-158a-4e5f-b368-c022d1752f19",
   "metadata": {},
   "outputs": [
    {
     "data": {
      "text/plain": [
       "1"
      ]
     },
     "execution_count": 8,
     "metadata": {},
     "output_type": "execute_result"
    }
   ],
   "source": [
    "10 % 3"
   ]
  },
  {
   "cell_type": "code",
   "execution_count": 9,
   "id": "53458297-8b8f-4940-8f7c-9918fd3f4b57",
   "metadata": {},
   "outputs": [
    {
     "data": {
      "text/plain": [
       "5/2"
      ]
     },
     "execution_count": 9,
     "metadata": {},
     "output_type": "execute_result"
    }
   ],
   "source": [
    "10/4"
   ]
  },
  {
   "cell_type": "code",
   "execution_count": 10,
   "id": "ab9fdcab-ee70-4f34-a1d9-a1292b39979b",
   "metadata": {},
   "outputs": [
    {
     "data": {
      "text/plain": [
       "2"
      ]
     },
     "execution_count": 10,
     "metadata": {},
     "output_type": "execute_result"
    }
   ],
   "source": [
    "10//4"
   ]
  },
  {
   "cell_type": "code",
   "execution_count": 11,
   "id": "8403f371-dc69-4490-a0b0-1750cf8a1ad0",
   "metadata": {},
   "outputs": [
    {
     "data": {
      "text/plain": [
       "True"
      ]
     },
     "execution_count": 11,
     "metadata": {},
     "output_type": "execute_result"
    }
   ],
   "source": [
    "4 * (10 // 4) + 10 % 4 == 10"
   ]
  },
  {
   "cell_type": "code",
   "execution_count": 12,
   "id": "8e09dbed-d516-43a3-ae8f-d9b3a06b785c",
   "metadata": {},
   "outputs": [
    {
     "data": {
      "text/plain": [
       "38"
      ]
     },
     "execution_count": 12,
     "metadata": {},
     "output_type": "execute_result"
    }
   ],
   "source": [
    "3^2*4 + 2%5"
   ]
  },
  {
   "cell_type": "code",
   "execution_count": 13,
   "id": "7cb0d7d0-8cf6-438e-804c-ae4993ef0361",
   "metadata": {},
   "outputs": [
    {
     "data": {
      "text/plain": [
       "1.84390889145858"
      ]
     },
     "execution_count": 13,
     "metadata": {},
     "output_type": "execute_result"
    }
   ],
   "source": [
    "sqrt(3.4)"
   ]
  },
  {
   "cell_type": "code",
   "execution_count": 14,
   "id": "addd2591-99ea-4b8c-bebc-d97154ba7f98",
   "metadata": {},
   "outputs": [
    {
     "data": {
      "text/plain": [
       "-0.823858510681570"
      ]
     },
     "execution_count": 14,
     "metadata": {},
     "output_type": "execute_result"
    }
   ],
   "source": [
    "sin(5.315)"
   ]
  },
  {
   "cell_type": "code",
   "execution_count": 15,
   "id": "aa13df98-5a5f-4d07-b9f6-f7d2f7ecabf5",
   "metadata": {},
   "outputs": [
    {
     "data": {
      "text/plain": [
       "1/2*sqrt(3)"
      ]
     },
     "execution_count": 15,
     "metadata": {},
     "output_type": "execute_result"
    }
   ],
   "source": [
    "sin(pi/3)"
   ]
  },
  {
   "cell_type": "markdown",
   "id": "189a2f7e-fc46-427d-b69b-7e5a3a7ae4c8",
   "metadata": {},
   "source": [
    "如最后一个表达式所示，有些表达式会返回\"精确值\"，我们可以使用函数`N`或方法`n`来近似。"
   ]
  },
  {
   "cell_type": "code",
   "execution_count": 16,
   "id": "181934d7-c967-45cc-a8ea-1c0fc9fabc41",
   "metadata": {},
   "outputs": [
    {
     "data": {
      "text/plain": [
       "e^2"
      ]
     },
     "execution_count": 16,
     "metadata": {},
     "output_type": "execute_result"
    }
   ],
   "source": [
    "exp(2)"
   ]
  },
  {
   "cell_type": "code",
   "execution_count": 17,
   "id": "2899be39-204f-4431-b3f3-10b644270cf8",
   "metadata": {},
   "outputs": [
    {
     "data": {
      "text/plain": [
       "7.38905609893065"
      ]
     },
     "execution_count": 17,
     "metadata": {},
     "output_type": "execute_result"
    }
   ],
   "source": [
    "n(exp(2))"
   ]
  },
  {
   "cell_type": "code",
   "execution_count": 18,
   "id": "bd2e796d-f91c-4138-9a5b-97c54486bbfa",
   "metadata": {},
   "outputs": [
    {
     "data": {
      "text/plain": [
       "1.77245385090552"
      ]
     },
     "execution_count": 18,
     "metadata": {},
     "output_type": "execute_result"
    }
   ],
   "source": [
    "sqrt(pi).numerical_approx()"
   ]
  },
  {
   "cell_type": "code",
   "execution_count": 19,
   "id": "81e87c67-7c28-47cb-b8f0-20080840d958",
   "metadata": {},
   "outputs": [
    {
     "data": {
      "text/plain": [
       "-0.54402"
      ]
     },
     "execution_count": 19,
     "metadata": {},
     "output_type": "execute_result"
    }
   ],
   "source": [
    "sin(10).n(digits=5)"
   ]
  },
  {
   "cell_type": "code",
   "execution_count": 20,
   "id": "d71220b2-bde6-40ed-b39a-5c830c28efba",
   "metadata": {},
   "outputs": [
    {
     "data": {
      "text/plain": [
       "3.1415926535897932384626433832795028841971693993751058209749"
      ]
     },
     "execution_count": 20,
     "metadata": {},
     "output_type": "execute_result"
    }
   ],
   "source": [
    "numerical_approx(pi, prec=200)"
   ]
  },
  {
   "cell_type": "markdown",
   "id": "cd930ada-a225-4210-8f69-03b5cdf2cf85",
   "metadata": {},
   "source": [
    "sage与Python相同，都是动态类型的。"
   ]
  },
  {
   "cell_type": "code",
   "execution_count": 21,
   "id": "b0bb5baa-23a8-4cdc-bb8c-9a6d0e8444e4",
   "metadata": {},
   "outputs": [
    {
     "data": {
      "text/plain": [
       "<class 'sage.rings.integer.Integer'>"
      ]
     },
     "execution_count": 21,
     "metadata": {},
     "output_type": "execute_result"
    }
   ],
   "source": [
    "a = 5\n",
    "type(a)"
   ]
  },
  {
   "cell_type": "code",
   "execution_count": 22,
   "id": "84dde553-8924-4edf-8f4a-79eb3e2c4846",
   "metadata": {},
   "outputs": [
    {
     "data": {
      "text/plain": [
       "<class 'sage.rings.rational.Rational'>"
      ]
     },
     "execution_count": 22,
     "metadata": {},
     "output_type": "execute_result"
    }
   ],
   "source": [
    "a = 5/3\n",
    "type(a)"
   ]
  },
  {
   "cell_type": "code",
   "execution_count": 23,
   "id": "99ab9370-7287-4473-b0fe-41704d91519a",
   "metadata": {},
   "outputs": [
    {
     "data": {
      "text/plain": [
       "<class 'str'>"
      ]
     },
     "execution_count": 23,
     "metadata": {},
     "output_type": "execute_result"
    }
   ],
   "source": [
    "a = 'hello'\n",
    "type(a)"
   ]
  },
  {
   "cell_type": "markdown",
   "id": "1062d996-9a1f-4200-80a2-45e55266547b",
   "metadata": {},
   "source": [
    "## 函数、缩进和计数"
   ]
  },
  {
   "cell_type": "code",
   "execution_count": 25,
   "id": "263f0bff-62a8-460a-b9d8-f6bb32f6c63d",
   "metadata": {},
   "outputs": [
    {
     "data": {
      "text/plain": [
       "True"
      ]
     },
     "execution_count": 25,
     "metadata": {},
     "output_type": "execute_result"
    }
   ],
   "source": [
    "def is_even(n):\n",
    "    return n%2 == 0\n",
    "\n",
    "is_even(2)"
   ]
  },
  {
   "cell_type": "code",
   "execution_count": 27,
   "id": "6120f736-6cd7-4f19-912b-a0ebe4453c16",
   "metadata": {},
   "outputs": [
    {
     "data": {
      "text/plain": [
       "[2, 3, 4, 5, 6, 7, 8, 9]"
      ]
     },
     "execution_count": 27,
     "metadata": {},
     "output_type": "execute_result"
    }
   ],
   "source": [
    "list(range(2, 10))"
   ]
  },
  {
   "cell_type": "code",
   "execution_count": 28,
   "id": "08a6bb2a-6127-4d3b-8331-b77f219b2a61",
   "metadata": {},
   "outputs": [],
   "source": [
    "v = [1, \"hello\", 2/3, sin(x^3)]"
   ]
  },
  {
   "cell_type": "code",
   "execution_count": 29,
   "id": "012b5ec4-5790-4913-9510-98cbb349599e",
   "metadata": {},
   "outputs": [
    {
     "data": {
      "text/plain": [
       "[1, 'hello', 2/3, sin(x^3)]"
      ]
     },
     "execution_count": 29,
     "metadata": {},
     "output_type": "execute_result"
    }
   ],
   "source": [
    "v"
   ]
  },
  {
   "cell_type": "code",
   "execution_count": 30,
   "id": "353295ee-b948-433d-99df-d39d0e9e09cc",
   "metadata": {},
   "outputs": [
    {
     "data": {
      "text/plain": [
       "1"
      ]
     },
     "execution_count": 30,
     "metadata": {},
     "output_type": "execute_result"
    }
   ],
   "source": [
    "v[0]"
   ]
  },
  {
   "cell_type": "code",
   "execution_count": 31,
   "id": "3818bb32-6467-45b2-ac37-254092e90378",
   "metadata": {},
   "outputs": [],
   "source": [
    "d = {'hi':-2, 3/8:pi, e:pi}"
   ]
  },
  {
   "cell_type": "code",
   "execution_count": 32,
   "id": "89a3c2bc-e62e-4622-a1cd-9fe16e2bc0ff",
   "metadata": {},
   "outputs": [
    {
     "data": {
      "text/plain": [
       "-2"
      ]
     },
     "execution_count": 32,
     "metadata": {},
     "output_type": "execute_result"
    }
   ],
   "source": [
    "d['hi']"
   ]
  },
  {
   "cell_type": "code",
   "execution_count": 33,
   "id": "640d5156-b59e-4d95-a7a7-386ee244c07e",
   "metadata": {},
   "outputs": [
    {
     "data": {
      "text/plain": [
       "pi"
      ]
     },
     "execution_count": 33,
     "metadata": {},
     "output_type": "execute_result"
    }
   ],
   "source": [
    "d[3/8]"
   ]
  },
  {
   "cell_type": "code",
   "execution_count": 35,
   "id": "2bc02048-4bc8-4b72-9171-eccc3e9d2992",
   "metadata": {},
   "outputs": [],
   "source": [
    "class Evens(list):\n",
    "    def __init__(self, n):\n",
    "        self.n = n\n",
    "        list.__init__(self, range(2, n+1, 2))\n",
    "    def __repr__(self):\n",
    "        return \"Even positive numbers up to n.\""
   ]
  },
  {
   "cell_type": "code",
   "execution_count": 36,
   "id": "c5f67f4d-adc0-448a-8666-80aac4b1d99d",
   "metadata": {},
   "outputs": [],
   "source": [
    "e = Evens(10)"
   ]
  },
  {
   "cell_type": "code",
   "execution_count": 37,
   "id": "5f59f95a-4dc7-4d15-a668-7b1b7a46b403",
   "metadata": {},
   "outputs": [
    {
     "data": {
      "text/plain": [
       "Even positive numbers up to n."
      ]
     },
     "execution_count": 37,
     "metadata": {},
     "output_type": "execute_result"
    }
   ],
   "source": [
    "e"
   ]
  },
  {
   "cell_type": "code",
   "execution_count": 38,
   "id": "215eda97-9bf3-4583-b50d-17643df56133",
   "metadata": {},
   "outputs": [
    {
     "data": {
      "text/plain": [
       "[2, 4, 6, 8, 10]"
      ]
     },
     "execution_count": 38,
     "metadata": {},
     "output_type": "execute_result"
    }
   ],
   "source": [
    "list(e)"
   ]
  },
  {
   "cell_type": "code",
   "execution_count": 39,
   "id": "34c0e39d-814e-4160-bd80-e5b6a86ba2d6",
   "metadata": {},
   "outputs": [
    {
     "data": {
      "text/plain": [
       "10"
      ]
     },
     "execution_count": 39,
     "metadata": {},
     "output_type": "execute_result"
    }
   ],
   "source": [
    "e.n"
   ]
  },
  {
   "cell_type": "code",
   "execution_count": 40,
   "id": "2931f8c7-416d-4e56-a88b-43a8d58e8383",
   "metadata": {},
   "outputs": [
    {
     "data": {
      "text/plain": [
       "6"
      ]
     },
     "execution_count": 40,
     "metadata": {},
     "output_type": "execute_result"
    }
   ],
   "source": [
    "e[2]"
   ]
  },
  {
   "cell_type": "markdown",
   "id": "d7db9417-9c6c-4fb8-939e-2cae6102863e",
   "metadata": {},
   "source": [
    "## 基础代数和微积分"
   ]
  },
  {
   "cell_type": "code",
   "execution_count": 41,
   "id": "e1fe7e5d-6174-4254-883e-f0bbe55137ae",
   "metadata": {},
   "outputs": [
    {
     "data": {
      "text/plain": [
       "cos(u)"
      ]
     },
     "execution_count": 41,
     "metadata": {},
     "output_type": "execute_result"
    }
   ],
   "source": [
    "u = var('u')\n",
    "diff(sin(u), u)"
   ]
  },
  {
   "cell_type": "markdown",
   "id": "ba047f80-3f5b-4a84-804d-e1b03693de83",
   "metadata": {},
   "source": [
    "### 解方程"
   ]
  },
  {
   "cell_type": "markdown",
   "id": "0ebbc268-ee93-4557-ab78-6b7e9bf84897",
   "metadata": {},
   "source": [
    "#### 精确解方程"
   ]
  },
  {
   "cell_type": "code",
   "execution_count": 42,
   "id": "2aeefa35-b98b-413f-aca1-2e9161844ed4",
   "metadata": {},
   "outputs": [
    {
     "data": {
      "text/plain": [
       "[x == -2, x == -1]"
      ]
     },
     "execution_count": 42,
     "metadata": {},
     "output_type": "execute_result"
    }
   ],
   "source": [
    "x = var('x')\n",
    "solve(x^2 + 3*x + 2, x)"
   ]
  },
  {
   "cell_type": "code",
   "execution_count": 43,
   "id": "ca3b3582-45a0-488b-8deb-235c54646267",
   "metadata": {},
   "outputs": [
    {
     "data": {
      "text/plain": [
       "[x == -1/2*b - 1/2*sqrt(b^2 - 4*c), x == -1/2*b + 1/2*sqrt(b^2 - 4*c)]"
      ]
     },
     "execution_count": 43,
     "metadata": {},
     "output_type": "execute_result"
    }
   ],
   "source": [
    "x, b, c = var('x b c')\n",
    "solve([x^2 + b*x + c == 0], x)"
   ]
  },
  {
   "cell_type": "code",
   "execution_count": 44,
   "id": "88ed39e6-ad6c-44be-adc6-6bdc9e920af8",
   "metadata": {},
   "outputs": [
    {
     "data": {
      "text/plain": [
       "[[x == 5, y == 1]]"
      ]
     },
     "execution_count": 44,
     "metadata": {},
     "output_type": "execute_result"
    }
   ],
   "source": [
    "x, y = var('x y')\n",
    "solve([x+y==6, x-y==4], x, y)"
   ]
  },
  {
   "cell_type": "code",
   "execution_count": 45,
   "id": "be42d0f5-45b9-4be6-8b7f-23c3b83fe65e",
   "metadata": {},
   "outputs": [
    {
     "data": {
      "text/plain": [
       "[[p == 1, q == 8, x == -4/3*sqrt(10) - 2/3, y == 1/6*sqrt(10) - 2/3], [p == 1, q == 8, x == 4/3*sqrt(10) - 2/3, y == -1/6*sqrt(10) - 2/3]]"
      ]
     },
     "execution_count": 45,
     "metadata": {},
     "output_type": "execute_result"
    }
   ],
   "source": [
    "x, y, p, q = var('x y p q')\n",
    "eq1 = p + q == 9\n",
    "eq2 = q*y+p*x == -6\n",
    "eq3 = q*y^2+p*x^2 == 24\n",
    "solve([eq1, eq2, eq3, p==1], p, q, x, y)"
   ]
  },
  {
   "cell_type": "code",
   "execution_count": 46,
   "id": "aee5293a-0a6a-422d-965c-b93c5e1da7b2",
   "metadata": {},
   "outputs": [
    {
     "data": {
      "text/plain": [
       "[[1.0000000, 8.0000000, -4.8830369, -0.13962039],\n",
       " [1.0000000, 8.0000000, 3.5497035, -1.1937129]]"
      ]
     },
     "execution_count": 46,
     "metadata": {},
     "output_type": "execute_result"
    }
   ],
   "source": [
    "solns = solve([eq1,eq2,eq3,p==1],p,q,x,y, solution_dict=True)\n",
    "[[s[p].n(30), s[q].n(30), s[x].n(30), s[y].n(30)] for s in solns]"
   ]
  },
  {
   "cell_type": "code",
   "execution_count": null,
   "id": "f3f91633-f464-44cc-a1b9-5a6688228808",
   "metadata": {},
   "outputs": [],
   "source": []
  }
 ],
 "metadata": {
  "kernelspec": {
   "display_name": "SageMath 9.5",
   "language": "sage",
   "name": "sagemath"
  },
  "language_info": {
   "codemirror_mode": {
    "name": "ipython",
    "version": 3
   },
   "file_extension": ".py",
   "mimetype": "text/x-python",
   "name": "python",
   "nbconvert_exporter": "python",
   "pygments_lexer": "ipython3",
   "version": "3.10.6"
  }
 },
 "nbformat": 4,
 "nbformat_minor": 5
}
